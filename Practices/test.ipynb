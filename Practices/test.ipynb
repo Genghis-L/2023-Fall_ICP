{
 "cells": [
  {
   "cell_type": "code",
   "execution_count": 4,
   "metadata": {},
   "outputs": [
    {
     "name": "stdout",
     "output_type": "stream",
     "text": [
      "+-+-+-+\n",
      "|1|2|3|\n",
      "+-+-+-+\n",
      "|4|5|6|\n",
      "+-+-+-+\n",
      "|7|8|9|\n",
      "+-+-+-+\n",
      "[[1, 4, 7], [2, 5, 8], [3, 6, 9]]\n"
     ]
    }
   ],
   "source": [
    "def pretty_printing(mtx):    # mtx is a list of lists (mtx should represent a rectangle matrix)\n",
    "   col_num = len(mtx[0])\n",
    "   for row in mtx:\n",
    "       print('+-' * col_num + '+')\n",
    "       for s in row:\n",
    "           print('|', s, sep='', end='')\n",
    "       print('|')\n",
    "   print('+-' * col_num + '+')\n",
    "\n",
    "def transposition(mtx):      # mtx is a list of lists (mtx should represent a rectangle matrix)\n",
    "   mtx_T = []                      # Initialize the transpose matrix\n",
    "   T_row = []                      # Initialize the row of the transpose matrix\n",
    "\n",
    "   for i in range(len(mtx[0])):\n",
    "       for row in mtx:\n",
    "           T_row.append(row[i])      \n",
    "       mtx_T.append(T_row)          # The i-th row of mtx_T is the i-th column of mtx\n",
    "       T_row = []                             # Clear the T_row for next iteration\n",
    "\n",
    "   return mtx_T\n",
    "\n",
    "mtx=[[1,2,3],[4,5,6],[7,8,9]]\n",
    "pretty_printing(mtx)\n",
    "print(transposition(mtx))"
   ]
  }
 ],
 "metadata": {
  "kernelspec": {
   "display_name": "Python 3",
   "language": "python",
   "name": "python3"
  },
  "language_info": {
   "codemirror_mode": {
    "name": "ipython",
    "version": 3
   },
   "file_extension": ".py",
   "mimetype": "text/x-python",
   "name": "python",
   "nbconvert_exporter": "python",
   "pygments_lexer": "ipython3",
   "version": "3.11.1"
  },
  "orig_nbformat": 4
 },
 "nbformat": 4,
 "nbformat_minor": 2
}
